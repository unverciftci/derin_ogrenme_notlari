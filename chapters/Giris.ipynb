{
  "nbformat": 4,
  "nbformat_minor": 0,
  "metadata": {
    "colab": {
      "name": "Giris.ipynb",
      "provenance": [],
      "collapsed_sections": [],
      "authorship_tag": "ABX9TyN5HVGoDceq2wc9BjtaEVyL"
    },
    "kernelspec": {
      "name": "python3",
      "display_name": "Python 3"
    },
    "language_info": {
      "name": "python"
    }
  },
  "cells": [
    {
      "cell_type": "markdown",
      "source": [
        "# Derin Öğrenme\n",
        "\n",
        "Son yıllarda yapay zekada çok fazla gelişme yaşandı. Artık yapay zeka teknolojileri günlük yaşamımızın bir parçası olmaya başladı. Öreneğin sosyal ağlarda fotoğrafların otomatik etiketlenmesi, sesli asistanlar, internet alışverişlerinde bize özel tavsiyeler gibi. \n",
        "\n",
        "Bütün bunların arkasında çoğunlukla yapay sinir ağları var. Yapay sinir ağları, matematiksel nesneler ve onları etkin kulanabilmek ve geliştirmek için matematiksel olarak incelenmesi önemli. Bu derste yapay sinir ağlarının matematiksel yapısını, yapay sinir ağları türlerini ve uygulamalrını inceleyeceğiz.  \n",
        "\n",
        "Derin öğrenme, makine öğrenmesinin, o da yapay zekanın bir alt dalıdır. Şimdi kısaca bahsettiğimiz kavramalara bakalım."
      ],
      "metadata": {
        "id": "rySb_mizn6BR"
      }
    }
  ]
}