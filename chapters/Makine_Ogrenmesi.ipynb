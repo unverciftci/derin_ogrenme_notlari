{
  "nbformat": 4,
  "nbformat_minor": 0,
  "metadata": {
    "colab": {
      "name": "Makine_Ogrenmesi.ipynb",
      "provenance": [],
      "authorship_tag": "ABX9TyOSD6QkG4ZGENiPHMfX269k"
    },
    "kernelspec": {
      "name": "python3",
      "display_name": "Python 3"
    },
    "language_info": {
      "name": "python"
    }
  },
  "cells": [
    {
      "cell_type": "code",
      "execution_count": null,
      "metadata": {
        "id": "EQe1uj_16jEI"
      },
      "outputs": [],
      "source": [
        ""
      ]
    }
  ]
}