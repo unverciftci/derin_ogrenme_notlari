{
  "nbformat": 4,
  "nbformat_minor": 0,
  "metadata": {
    "colab": {
      "name": "Makine_Ogrenmesi.ipynb",
      "provenance": [],
      "authorship_tag": "ABX9TyNh5hJKWUXb3MxFzpovm35u"
    },
    "kernelspec": {
      "name": "python3",
      "display_name": "Python 3"
    },
    "language_info": {
      "name": "python"
    }
  },
  "cells": [
    {
      "cell_type": "markdown",
      "source": [
        "# Makine öğrenmesine Genel Bakış\n",
        "\n",
        "Makine öğrenmesi, veriden öğrenme olarak nitelendirilebilir. Daha somut olarak Tom Mitchell şöyle tanımlamıştır:\n",
        "\n",
        "\n",
        "> Bilgisayar programı T görevini yapmada E deneyimi ile P ölçümüne göre gelişme sağlamışsa, öğrenme gerçekleşmiştir.\n",
        "\n",
        "Makine öğrenmesi aslında olasılık ve optimizasyon yöntemlerini kullanan bir uygulamalı istatistik alnanıdır. Ancak biz sadece optimizasyon yöntemlerini kullanacağız. Dolayısıyla tanımda geçen \"gelişme sağlama\" için sayısal optimizasyon yöntemlerini, en çok da meyilli azalım yöntemini kullanacağız.\n",
        "\n",
        "Makine öğrenmesi, veri türüne ve görev tanımına göre farklı alt disiplinlere ayrılır. Şimdi bunları kabaca inceleyelim. "
      ],
      "metadata": {
        "id": "tyay75ydBdyv"
      }
    }
  ]
}