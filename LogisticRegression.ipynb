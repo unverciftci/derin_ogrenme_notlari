{
  "nbformat": 4,
  "nbformat_minor": 0,
  "metadata": {
    "colab": {
      "name": "LogisticRegression.ipynb",
      "provenance": [],
      "collapsed_sections": [],
      "authorship_tag": "ABX9TyNISt1lF1tbHs9cNOKMMojK",
      "include_colab_link": true
    },
    "kernelspec": {
      "name": "python3",
      "display_name": "Python 3"
    },
    "language_info": {
      "name": "python"
    }
  },
  "cells": [
    {
      "cell_type": "markdown",
      "metadata": {
        "id": "view-in-github",
        "colab_type": "text"
      },
      "source": [
        "<a href=\"https://colab.research.google.com/github/unverciftci/derin_ogrenme_notlari/blob/main/LogisticRegression.ipynb\" target=\"_parent\"><img src=\"https://colab.research.google.com/assets/colab-badge.svg\" alt=\"Open In Colab\"/></a>"
      ]
    },
    {
      "cell_type": "code",
      "execution_count": 1,
      "metadata": {
        "id": "SdDOxJ_3Kf-7"
      },
      "outputs": [],
      "source": [
        "import numpy as np"
      ]
    },
    {
      "cell_type": "code",
      "source": [
        "x1 = np.array([1,3]) # Birinci veri noktası\n",
        "y1 = 0\n"
      ],
      "metadata": {
        "id": "pwgLa7UERGCI"
      },
      "execution_count": 8,
      "outputs": []
    },
    {
      "cell_type": "code",
      "source": [
        "x1[1]"
      ],
      "metadata": {
        "colab": {
          "base_uri": "https://localhost:8080/"
        },
        "id": "DIGZaU9McOfK",
        "outputId": "cd7e14cc-1e12-4014-f0c6-ffce4aa60ec8"
      },
      "execution_count": 10,
      "outputs": [
        {
          "output_type": "execute_result",
          "data": {
            "text/plain": [
              "3"
            ]
          },
          "metadata": {},
          "execution_count": 10
        }
      ]
    },
    {
      "cell_type": "code",
      "source": [
        "w1 = 0.01\n",
        "w2 = -0.03\n",
        "b = 0\n",
        "lr = 0.001"
      ],
      "metadata": {
        "id": "p4mXITi6ZDFX"
      },
      "execution_count": 7,
      "outputs": []
    },
    {
      "cell_type": "code",
      "source": [
        "def f(x):\n",
        "  \"\"\"Sinir ağını tanımla\"\"\"\n",
        "  z = w1 * x[0] + w2*x[1] + b \n",
        "  ye = 1/(1 + np.exp(-z))\n",
        "  return ye"
      ],
      "metadata": {
        "id": "yFH42ZdLRfaX"
      },
      "execution_count": 17,
      "outputs": []
    },
    {
      "cell_type": "code",
      "source": [
        "f(x1)"
      ],
      "metadata": {
        "colab": {
          "base_uri": "https://localhost:8080/"
        },
        "id": "sIX2ZOQHZR4D",
        "outputId": "b32184bb-0b72-4184-a29a-34d6c14aab57"
      },
      "execution_count": 18,
      "outputs": [
        {
          "output_type": "execute_result",
          "data": {
            "text/plain": [
              "0.48001065984441826"
            ]
          },
          "metadata": {},
          "execution_count": 18
        }
      ]
    },
    {
      "cell_type": "code",
      "source": [
        "def l(ye,y): \n",
        "  if y == 1:\n",
        "    return -ye\n",
        "  else :\n",
        "    return -(1-ye)  \n",
        "\n",
        "  \n"
      ],
      "metadata": {
        "id": "OSGUyjQhRu8W"
      },
      "execution_count": 23,
      "outputs": []
    },
    {
      "cell_type": "code",
      "source": [
        "l(0.4,1)"
      ],
      "metadata": {
        "colab": {
          "base_uri": "https://localhost:8080/"
        },
        "id": "tQLNYBFLfucD",
        "outputId": "e6023aed-2695-4e3a-85e8-2475c9c0392d"
      },
      "execution_count": 25,
      "outputs": [
        {
          "output_type": "execute_result",
          "data": {
            "text/plain": [
              "-0.4"
            ]
          },
          "metadata": {},
          "execution_count": 25
        }
      ]
    },
    {
      "cell_type": "code",
      "source": [
        "def dl(y):\n",
        "  if y== 1:\n",
        "    return -1\n",
        "  else :\n",
        "    return 1\n",
        " "
      ],
      "metadata": {
        "id": "UwmIWY-JSCl_"
      },
      "execution_count": 26,
      "outputs": []
    },
    {
      "cell_type": "code",
      "source": [
        "dl(1)"
      ],
      "metadata": {
        "colab": {
          "base_uri": "https://localhost:8080/"
        },
        "id": "Yo8JTpUqg1Lm",
        "outputId": "f118faa5-a07a-485a-f3a5-c2704e6a1c0d"
      },
      "execution_count": 28,
      "outputs": [
        {
          "output_type": "execute_result",
          "data": {
            "text/plain": [
              "-1"
            ]
          },
          "metadata": {},
          "execution_count": 28
        }
      ]
    },
    {
      "cell_type": "code",
      "source": [
        "def dye(ye): \n",
        "  return ye*(1-ye)\n",
        "  \"\"\"y tahminin z'ye göre türevi\"\"\" "
      ],
      "metadata": {
        "id": "-1y35-7zT1WW"
      },
      "execution_count": 29,
      "outputs": []
    },
    {
      "cell_type": "code",
      "source": [
        "def dlw1(x):\n",
        "  return x[0]\n"
      ],
      "metadata": {
        "id": "p76J6JGmTsjH"
      },
      "execution_count": 30,
      "outputs": []
    },
    {
      "cell_type": "code",
      "source": [
        "def dlw2()"
      ],
      "metadata": {
        "id": "xVdd8U-0UOMn"
      },
      "execution_count": null,
      "outputs": []
    },
    {
      "cell_type": "code",
      "source": [
        "def dlb"
      ],
      "metadata": {
        "id": "6eRbngEaUXkH"
      },
      "execution_count": null,
      "outputs": []
    },
    {
      "cell_type": "code",
      "source": [
        ""
      ],
      "metadata": {
        "id": "OV0TzVonUZDI"
      },
      "execution_count": null,
      "outputs": []
    },
    {
      "cell_type": "code",
      "source": [
        "for :\n",
        "  w1 = w1 - lr * dlw1\n",
        "  w2 = \n",
        "  b ="
      ],
      "metadata": {
        "id": "IISDc_ZYUknG"
      },
      "execution_count": null,
      "outputs": []
    }
  ]
}